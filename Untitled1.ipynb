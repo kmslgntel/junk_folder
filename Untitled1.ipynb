{
 "cells": [
  {
   "cell_type": "code",
   "execution_count": 4,
   "id": "c5f5faea-4a0a-44f7-ac47-4716c3ce5b0f",
   "metadata": {},
   "outputs": [
    {
     "ename": "NameError",
     "evalue": "name 'generate_key' is not defined",
     "output_type": "error",
     "traceback": [
      "\u001b[1;31m---------------------------------------------------------------------------\u001b[0m",
      "\u001b[1;31mNameError\u001b[0m                                 Traceback (most recent call last)",
      "Cell \u001b[1;32mIn[4], line 4\u001b[0m\n\u001b[0;32m      1\u001b[0m \u001b[38;5;28;01mfrom\u001b[39;00m \u001b[38;5;21;01mcryptography\u001b[39;00m\u001b[38;5;21;01m.\u001b[39;00m\u001b[38;5;21;01mfernet\u001b[39;00m \u001b[38;5;28;01mimport\u001b[39;00m Fernet\n\u001b[0;32m      3\u001b[0m \u001b[38;5;66;03m# 처음 한 번만 키 생성\u001b[39;00m\n\u001b[1;32m----> 4\u001b[0m generate_key()\n\u001b[0;32m      6\u001b[0m \u001b[38;5;66;03m# 사용자 정보 설정\u001b[39;00m\n\u001b[0;32m      7\u001b[0m username \u001b[38;5;241m=\u001b[39m \u001b[38;5;28minput\u001b[39m(\u001b[38;5;124m\"\u001b[39m\u001b[38;5;124mID : \u001b[39m\u001b[38;5;124m\"\u001b[39m)\n",
      "\u001b[1;31mNameError\u001b[0m: name 'generate_key' is not defined"
     ]
    }
   ],
   "source": [
    "from cryptography.fernet import Fernet\n",
    "\n",
    "# 처음 한 번만 키 생성\n",
    "generate_key()\n",
    "\n",
    "# 사용자 정보 설정\n",
    "username = input(\"ID : \")\n",
    "password = input(\"PW : \")\n",
    "\n",
    "# 사용자 정보 암호화\n",
    "encrypted_username = encrypt_message(username)\n",
    "encrypted_password = encrypt_message(password)\n",
    "\n",
    "# 암호화된 사용자 정보 파일에 저장\n",
    "with open(\"credentials.enc\", \"wb\") as file:\n",
    "    file.write(encrypted_username + b\"\\n\" + encrypted_password)\n"
   ]
  },
  {
   "cell_type": "code",
   "execution_count": 2,
   "id": "2d5d02f3-f980-412d-a067-e1be51f17b41",
   "metadata": {},
   "outputs": [
    {
     "name": "stdout",
     "output_type": "stream",
     "text": [
      "Requirement already satisfied: cryptography in c:\\users\\administrator\\anaconda3\\lib\\site-packages (42.0.2)\n",
      "Requirement already satisfied: cffi>=1.12 in c:\\users\\administrator\\anaconda3\\lib\\site-packages (from cryptography) (1.16.0)\n",
      "Requirement already satisfied: pycparser in c:\\users\\administrator\\anaconda3\\lib\\site-packages (from cffi>=1.12->cryptography) (2.21)\n",
      "Note: you may need to restart the kernel to use updated packages.\n"
     ]
    }
   ],
   "source": [
    "pip install cryptography\n"
   ]
  },
  {
   "cell_type": "code",
   "execution_count": null,
   "id": "45d8e78a-b994-4b7b-a180-5a363d98b62d",
   "metadata": {},
   "outputs": [],
   "source": []
  }
 ],
 "metadata": {
  "kernelspec": {
   "display_name": "Python 3 (ipykernel)",
   "language": "python",
   "name": "python3"
  },
  "language_info": {
   "codemirror_mode": {
    "name": "ipython",
    "version": 3
   },
   "file_extension": ".py",
   "mimetype": "text/x-python",
   "name": "python",
   "nbconvert_exporter": "python",
   "pygments_lexer": "ipython3",
   "version": "3.11.7"
  }
 },
 "nbformat": 4,
 "nbformat_minor": 5
}
