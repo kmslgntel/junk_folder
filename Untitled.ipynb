{
 "cells": [
  {
   "cell_type": "code",
   "execution_count": 18,
   "id": "b88835db-b5d7-4c47-9df6-c9f87bac4caf",
   "metadata": {},
   "outputs": [],
   "source": [
    "from selenium import webdriver\n",
    "from selenium.webdriver.common.by import By\n",
    "from selenium.webdriver.chrome.service import Service\n",
    "from webdriver_manager.chrome import ChromeDriverManager\n",
    "\n",
    "# 사용자 정보 설정\n",
    "username = \"0955\"\n",
    "password = \"wjdrnvita500@\"\n",
    "\n",
    "# Chrome 디버깅 옵션 설정\n",
    "chrome_options = webdriver.ChromeOptions()\n",
    "chrome_options.add_experimental_option(\"debuggerAddress\", \"127.0.0.1:9222\")\n",
    "\n",
    "# 웹드라이버 설정 및 기존 Chrome 창 연결\n",
    "driver = webdriver.Chrome(service=Service(ChromeDriverManager().install()), options=chrome_options)\n",
    "\n",
    "try:\n",
    "    # 로그인 페이지로 이동\n",
    "    driver.get(\"https://gw.lgntel.com/Account/Login2\")\n",
    "\n",
    "    # 사용자 이름 입력\n",
    "    username_field = driver.find_element(By.ID, \"UserName\")\n",
    "    username_field.send_keys(username)\n",
    "\n",
    "    # 비밀번호 입력\n",
    "    password_field = driver.find_element(By.ID, \"Password\")\n",
    "    password_field.send_keys(password)\n",
    "\n",
    "    # 로그인 버튼 클릭\n",
    "    login_button = driver.find_element(By.XPATH, '//*[@id=\"login_content\"]/form/div/div[1]/a')\n",
    "    login_button.click()\n",
    "\n",
    "    # 로그인 후 추가 작업 수행 (필요에 따라)\n",
    "    # driver.get(\"https://github.com/your_profile_page\")\n",
    "\n",
    "finally:\n",
    "    # 완료 후 브라우저 닫기 (필요시)\n",
    "    pass  # 이 줄은 필요시 driver.quit()을 활성화하기 위해 사용됩니다. 현재는 placeholder로 남겨둠\n"
   ]
  },
  {
   "cell_type": "code",
   "execution_count": null,
   "id": "1e457cc1-a799-4af9-a314-1a15205fe55f",
   "metadata": {},
   "outputs": [],
   "source": []
  }
 ],
 "metadata": {
  "kernelspec": {
   "display_name": "Python 3 (ipykernel)",
   "language": "python",
   "name": "python3"
  },
  "language_info": {
   "codemirror_mode": {
    "name": "ipython",
    "version": 3
   },
   "file_extension": ".py",
   "mimetype": "text/x-python",
   "name": "python",
   "nbconvert_exporter": "python",
   "pygments_lexer": "ipython3",
   "version": "3.11.7"
  }
 },
 "nbformat": 4,
 "nbformat_minor": 5
}
